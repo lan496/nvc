{
 "cells": [
  {
   "cell_type": "code",
   "execution_count": 1,
   "id": "1967a0f9",
   "metadata": {},
   "outputs": [],
   "source": [
    "%load_ext autoreload\n",
    "%autoreload 2"
   ]
  },
  {
   "cell_type": "code",
   "execution_count": 2,
   "id": "e7ee342c",
   "metadata": {},
   "outputs": [
    {
     "data": {
      "application/vnd.jupyter.widget-view+json": {
       "model_id": "d8b2021e951544b48bb20643e9e74c26",
       "version_major": 2,
       "version_minor": 0
      },
      "text/plain": []
     },
     "metadata": {},
     "output_type": "display_data"
    }
   ],
   "source": [
    "from nvc import viewer"
   ]
  },
  {
   "cell_type": "code",
   "execution_count": 3,
   "id": "0a438eed",
   "metadata": {
    "code_folding": [
     10
    ]
   },
   "outputs": [],
   "source": [
    "import numpy as np\n",
    "from pymatgen.core import Structure, Lattice\n",
    "\n",
    "# rutile structure taken from mp-2657\n",
    "a = 4.653\n",
    "c = 2.969\n",
    "x_4f = 0.3046\n",
    "\n",
    "lattice = Lattice.from_parameters(a, a, c, 90, 90, 90)\n",
    "species = [\"Ti\", \"Ti\", \"O\", \"O\", \"O\", \"O\"]\n",
    "frac_coords = np.array([\n",
    "    [0, 0, 0],                      # Ti(2a)\n",
    "    [0.5, 0.5, 0.5],                # Ti(2a)\n",
    "    [x_4f, x_4f, 0],                # O(4f)\n",
    "    [1 - x_4f, 1 - x_4f, 0],        # O(4f)\n",
    "    [0.5 - x_4f, 0.5 + x_4f, 0.5],  # O(4f)\n",
    "    [0.5 + x_4f, 0.5 - x_4f, 0.5],  # O(4f)\n",
    "])\n",
    "structure = Structure(lattice, species, frac_coords)"
   ]
  },
  {
   "cell_type": "code",
   "execution_count": 4,
   "id": "f40caef4",
   "metadata": {},
   "outputs": [
    {
     "data": {
      "text/plain": [
       "Structure Summary\n",
       "Lattice\n",
       "    abc : 4.653 4.653 2.969\n",
       " angles : 90.0 90.0 90.0\n",
       " volume : 64.28006432099998\n",
       "      A : 4.653 0.0 2.849140778216317e-16\n",
       "      B : 7.482594688945388e-16 4.653 2.849140778216317e-16\n",
       "      C : 0.0 0.0 2.969\n",
       "PeriodicSite: Ti (0.0000, 0.0000, 0.0000) [0.0000, 0.0000, 0.0000]\n",
       "PeriodicSite: Ti (2.3265, 2.3265, 1.4845) [0.5000, 0.5000, 0.5000]\n",
       "PeriodicSite: O (1.4173, 1.4173, 0.0000) [0.3046, 0.3046, 0.0000]\n",
       "PeriodicSite: O (3.2357, 3.2357, 0.0000) [0.6954, 0.6954, 0.0000]\n",
       "PeriodicSite: O (0.9092, 3.7438, 1.4845) [0.1954, 0.8046, 0.5000]\n",
       "PeriodicSite: O (3.7438, 0.9092, 1.4845) [0.8046, 0.1954, 0.5000]"
      ]
     },
     "execution_count": 4,
     "metadata": {},
     "output_type": "execute_result"
    }
   ],
   "source": [
    "structure"
   ]
  },
  {
   "cell_type": "code",
   "execution_count": 14,
   "id": "f28b6d25",
   "metadata": {},
   "outputs": [
    {
     "data": {
      "application/vnd.jupyter.widget-view+json": {
       "model_id": "b458a73a0e264500b5334be2856715ed",
       "version_major": 2,
       "version_minor": 0
      },
      "text/plain": [
       "NGLWidget()"
      ]
     },
     "metadata": {},
     "output_type": "display_data"
    }
   ],
   "source": [
    "view = viewer(structure)\n",
    "view"
   ]
  },
  {
   "cell_type": "code",
   "execution_count": null,
   "id": "1f4983ba",
   "metadata": {},
   "outputs": [],
   "source": []
  }
 ],
 "metadata": {
  "kernelspec": {
   "display_name": "Python 3 (ipykernel)",
   "language": "python",
   "name": "python3"
  },
  "language_info": {
   "codemirror_mode": {
    "name": "ipython",
    "version": 3
   },
   "file_extension": ".py",
   "mimetype": "text/x-python",
   "name": "python",
   "nbconvert_exporter": "python",
   "pygments_lexer": "ipython3",
   "version": "3.9.7"
  },
  "toc": {
   "base_numbering": 1,
   "nav_menu": {},
   "number_sections": true,
   "sideBar": true,
   "skip_h1_title": false,
   "title_cell": "Table of Contents",
   "title_sidebar": "Contents",
   "toc_cell": false,
   "toc_position": {},
   "toc_section_display": true,
   "toc_window_display": false
  }
 },
 "nbformat": 4,
 "nbformat_minor": 5
}
