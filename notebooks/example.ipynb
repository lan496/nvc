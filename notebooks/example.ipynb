{
 "cells": [
  {
   "cell_type": "code",
   "execution_count": 1,
   "id": "1967a0f9",
   "metadata": {},
   "outputs": [],
   "source": [
    "%load_ext autoreload\n",
    "%autoreload 2"
   ]
  },
  {
   "cell_type": "code",
   "execution_count": 5,
   "id": "e7ee342c",
   "metadata": {},
   "outputs": [
    {
     "data": {
      "application/vnd.jupyter.widget-view+json": {
       "model_id": "4ba12b4fda44452d8dc58645399abd84",
       "version_major": 2,
       "version_minor": 0
      },
      "text/plain": []
     },
     "metadata": {},
     "output_type": "display_data"
    }
   ],
   "source": [
    "from nvc import viewer"
   ]
  },
  {
   "cell_type": "code",
   "execution_count": 49,
   "id": "9ac36ad1",
   "metadata": {},
   "outputs": [],
   "source": [
    "import nglview as nv\n",
    "import numpy as np\n",
    "from pymatgen.core import Structure, Lattice\n",
    "from ipywidgets import Box"
   ]
  },
  {
   "cell_type": "markdown",
   "id": "457e0879",
   "metadata": {},
   "source": [
    "### Basic"
   ]
  },
  {
   "cell_type": "code",
   "execution_count": 7,
   "id": "0a438eed",
   "metadata": {
    "code_folding": []
   },
   "outputs": [],
   "source": [
    "# Rutile structure adpted from mp-2657\n",
    "a = 4.653\n",
    "c = 2.969\n",
    "x_4f = 0.3046\n",
    "\n",
    "lattice = Lattice.from_parameters(a, a, c, 90, 90, 90)\n",
    "species = [\"Ti\", \"Ti\", \"O\", \"O\", \"O\", \"O\"]\n",
    "frac_coords = np.array([\n",
    "    [0, 0, 0],                      # Ti(2a)\n",
    "    [0.5, 0.5, 0.5],                # Ti(2a)\n",
    "    [x_4f, x_4f, 0],                # O(4f)\n",
    "    [1 - x_4f, 1 - x_4f, 0],        # O(4f)\n",
    "    [0.5 - x_4f, 0.5 + x_4f, 0.5],  # O(4f)\n",
    "    [0.5 + x_4f, 0.5 - x_4f, 0.5],  # O(4f)\n",
    "])\n",
    "structure = Structure(lattice, species, frac_coords)"
   ]
  },
  {
   "cell_type": "code",
   "execution_count": 8,
   "id": "f28b6d25",
   "metadata": {},
   "outputs": [
    {
     "name": "stderr",
     "output_type": "stream",
     "text": [
      "/home/shinohara/.pyenv/versions/miniconda3-4.7.12/envs/nvc/lib/python3.9/site-packages/pymatgen/analysis/local_env.py:4135: UserWarning: No oxidation states specified on sites! For better results, set the site oxidation states in the structure.\n",
      "  warnings.warn(\n",
      "/home/shinohara/.pyenv/versions/miniconda3-4.7.12/envs/nvc/lib/python3.9/site-packages/pymatgen/analysis/local_env.py:3938: UserWarning: CrystalNN: cannot locate an appropriate radius, covalent or atomic radii will be used, this can lead to non-optimal results.\n",
      "  warnings.warn(\n"
     ]
    },
    {
     "data": {
      "application/vnd.jupyter.widget-view+json": {
       "model_id": "79789927fcb442259ac2b77580ef7b13",
       "version_major": 2,
       "version_minor": 0
      },
      "text/plain": [
       "NGLWidget()"
      ]
     },
     "metadata": {},
     "output_type": "display_data"
    }
   ],
   "source": [
    "view = viewer(structure)\n",
    "view"
   ]
  },
  {
   "cell_type": "code",
   "execution_count": 15,
   "id": "14d9854a",
   "metadata": {},
   "outputs": [
    {
     "data": {
      "application/vnd.jupyter.widget-view+json": {
       "model_id": "76154e8f10a247ec8f7e119af8e00c7b",
       "version_major": 2,
       "version_minor": 0
      },
      "text/plain": [
       "Box(children=(NGLWidget(n_components=1),), layout=Layout(height='400px', width='400px'))"
      ]
     },
     "metadata": {},
     "output_type": "display_data"
    }
   ],
   "source": [
    "# Save HTML\n",
    "# See https://github.com/nglviewer/nglview/blob/master/docs/FAQ.md#how-to-make-embedded-nglview-widget-into-specific-size\n",
    "box = Box([view])\n",
    "box.layout.width = '400px'\n",
    "box.layout.height = '400px'\n",
    "nv.write_html('rutile.html', box)\n",
    "box"
   ]
  },
  {
   "cell_type": "markdown",
   "id": "0376162c",
   "metadata": {},
   "source": [
    "### Magnetic moments"
   ]
  },
  {
   "cell_type": "code",
   "execution_count": 84,
   "id": "d1d40c0f",
   "metadata": {},
   "outputs": [],
   "source": [
    "# Antiferromagnetic NiS adapted from MAGNDATA\n",
    "# http://webbdcrista1.ehu.es/magndata/index.php?this_label=1.6\n",
    "a = 5.687\n",
    "\n",
    "lattice = Lattice(a * np.eye(3))\n",
    "species = [\"Ni\"] * 4 + [\"O\"] * 4\n",
    "frac_coords = np.array([\n",
    "    [0., 0., 0.],     # Ni\n",
    "    [0., 0.5, 0.5],   # Ni\n",
    "    [0.5, 0., 0.5],   # Ni\n",
    "    [0.5, 0.5, 0.],   # Ni\n",
    "    [0.5, 0.5, 0.5],  # O\n",
    "    [0.5, 0., 0.],    # O\n",
    "    [0., 0.5, 0.],   # O\n",
    "    [0., 0., 0.5],    # O\n",
    "])\n",
    "mx = 0.569\n",
    "magmom = np.array([\n",
    "    [mx, mx, mx],\n",
    "    [-mx, mx, -mx],\n",
    "    [-mx, -mx, mx],\n",
    "    [mx, -mx, -mx],\n",
    "    [0., 0., 0.],\n",
    "    [0., 0., 0.],\n",
    "    [0., 0., 0.],\n",
    "    [0., 0., 0.],\n",
    "])\n",
    "structure = Structure(lattice, species, frac_coords, site_properties={'magmom': magmom})"
   ]
  },
  {
   "cell_type": "code",
   "execution_count": 107,
   "id": "353f82d3",
   "metadata": {},
   "outputs": [
    {
     "data": {
      "application/vnd.jupyter.widget-view+json": {
       "model_id": "afd3374cb87b4140ab6d515d6918a730",
       "version_major": 2,
       "version_minor": 0
      },
      "text/plain": [
       "NGLWidget()"
      ]
     },
     "metadata": {},
     "output_type": "display_data"
    }
   ],
   "source": [
    "viewer(structure, show_magmom=True)"
   ]
  },
  {
   "cell_type": "code",
   "execution_count": null,
   "id": "01dc378d",
   "metadata": {},
   "outputs": [],
   "source": []
  }
 ],
 "metadata": {
  "kernelspec": {
   "display_name": "Python 3 (ipykernel)",
   "language": "python",
   "name": "python3"
  },
  "language_info": {
   "codemirror_mode": {
    "name": "ipython",
    "version": 3
   },
   "file_extension": ".py",
   "mimetype": "text/x-python",
   "name": "python",
   "nbconvert_exporter": "python",
   "pygments_lexer": "ipython3",
   "version": "3.9.7"
  },
  "toc": {
   "base_numbering": 1,
   "nav_menu": {},
   "number_sections": true,
   "sideBar": true,
   "skip_h1_title": false,
   "title_cell": "Table of Contents",
   "title_sidebar": "Contents",
   "toc_cell": false,
   "toc_position": {},
   "toc_section_display": true,
   "toc_window_display": false
  }
 },
 "nbformat": 4,
 "nbformat_minor": 5
}
