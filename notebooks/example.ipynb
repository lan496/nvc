{
 "cells": [
  {
   "cell_type": "code",
   "execution_count": 1,
   "id": "1967a0f9",
   "metadata": {},
   "outputs": [],
   "source": [
    "%load_ext autoreload\n",
    "%autoreload 2"
   ]
  },
  {
   "cell_type": "code",
   "execution_count": 2,
   "id": "e7ee342c",
   "metadata": {},
   "outputs": [
    {
     "data": {
      "application/vnd.jupyter.widget-view+json": {
       "model_id": "b694ecb214394525b6ad986470a679c3",
       "version_major": 2,
       "version_minor": 0
      },
      "text/plain": []
     },
     "metadata": {},
     "output_type": "display_data"
    }
   ],
   "source": [
    "from nvc import viewer"
   ]
  },
  {
   "cell_type": "code",
   "execution_count": 3,
   "id": "cf65c198",
   "metadata": {},
   "outputs": [],
   "source": [
    "import nglview as nv\n",
    "import numpy as np\n",
    "from pymatgen.core import Structure, Lattice\n",
    "from ipywidgets import Box"
   ]
  },
  {
   "cell_type": "markdown",
   "id": "4270234a",
   "metadata": {},
   "source": [
    "### Basic"
   ]
  },
  {
   "cell_type": "code",
   "execution_count": 13,
   "id": "0a438eed",
   "metadata": {
    "code_folding": []
   },
   "outputs": [],
   "source": [
    "# Rutile structure adpted from mp-2657\n",
    "a = 4.653\n",
    "c = 2.969\n",
    "x_4f = 0.3046\n",
    "\n",
    "lattice = Lattice.from_parameters(a, a, c, 90, 90, 90)\n",
    "species = [\"Ti\", \"Ti\", \"O\", \"O\", \"O\", \"O\"]\n",
    "frac_coords = np.array([\n",
    "    [0, 0, 0],                      # Ti(2a)\n",
    "    [0.5, 0.5, 0.5],                # Ti(2a)\n",
    "    [x_4f, x_4f, 0],                # O(4f)\n",
    "    [1 - x_4f, 1 - x_4f, 0],        # O(4f)\n",
    "    [0.5 - x_4f, 0.5 + x_4f, 0.5],  # O(4f)\n",
    "    [0.5 + x_4f, 0.5 - x_4f, 0.5],  # O(4f)\n",
    "])\n",
    "structure = Structure(lattice, species, frac_coords)"
   ]
  },
  {
   "cell_type": "code",
   "execution_count": 37,
   "id": "f28b6d25",
   "metadata": {},
   "outputs": [
    {
     "data": {
      "application/vnd.jupyter.widget-view+json": {
       "model_id": "94f54f32c8b44cafa11ab0974ac631e5",
       "version_major": 2,
       "version_minor": 0
      },
      "text/plain": [
       "NGLWidget()"
      ]
     },
     "metadata": {},
     "output_type": "display_data"
    }
   ],
   "source": [
    "view = viewer(structure)\n",
    "view"
   ]
  },
  {
   "cell_type": "code",
   "execution_count": 7,
   "id": "14d9854a",
   "metadata": {},
   "outputs": [
    {
     "data": {
      "application/vnd.jupyter.widget-view+json": {
       "model_id": "5686fefadce24e31a69d1fa90603ad56",
       "version_major": 2,
       "version_minor": 0
      },
      "text/plain": [
       "Box(children=(NGLWidget(n_components=35),), layout=Layout(height='400px', width='400px'))"
      ]
     },
     "metadata": {},
     "output_type": "display_data"
    }
   ],
   "source": [
    "# Save HTML\n",
    "# See https://github.com/nglviewer/nglview/blob/master/docs/FAQ.md#how-to-make-embedded-nglview-widget-into-specific-size\n",
    "box = Box([view])\n",
    "box.layout.width = '400px'\n",
    "box.layout.height = '400px'\n",
    "nv.write_html('rutile.html', box)\n",
    "box"
   ]
  },
  {
   "cell_type": "markdown",
   "id": "1d92433f",
   "metadata": {},
   "source": [
    "### Magnetic moments"
   ]
  },
  {
   "cell_type": "code",
   "execution_count": 8,
   "id": "57413eb8",
   "metadata": {},
   "outputs": [],
   "source": [
    "# Antiferromagnetic NiS adapted from MAGNDATA\n",
    "# http://webbdcrista1.ehu.es/magndata/index.php?this_label=1.6\n",
    "a = 5.687\n",
    "\n",
    "lattice = Lattice(a * np.eye(3))\n",
    "species = [\"Ni\"] * 4 + [\"O\"] * 4\n",
    "frac_coords = np.array([\n",
    "    [0., 0., 0.],     # Ni\n",
    "    [0., 0.5, 0.5],   # Ni\n",
    "    [0.5, 0., 0.5],   # Ni\n",
    "    [0.5, 0.5, 0.],   # Ni\n",
    "    [0.5, 0.5, 0.5],  # O\n",
    "    [0.5, 0., 0.],    # O\n",
    "    [0., 0.5, 0.],   # O\n",
    "    [0., 0., 0.5],    # O\n",
    "])\n",
    "mx = 0.569\n",
    "magmom = np.array([\n",
    "    [mx, mx, mx],\n",
    "    [-mx, mx, -mx],\n",
    "    [-mx, -mx, mx],\n",
    "    [mx, -mx, -mx],\n",
    "    [0., 0., 0.],\n",
    "    [0., 0., 0.],\n",
    "    [0., 0., 0.],\n",
    "    [0., 0., 0.],\n",
    "])\n",
    "structure = Structure(lattice, species, frac_coords, site_properties={'magmom': magmom})"
   ]
  },
  {
   "cell_type": "code",
   "execution_count": 9,
   "id": "827c3639",
   "metadata": {},
   "outputs": [
    {
     "data": {
      "application/vnd.jupyter.widget-view+json": {
       "model_id": "f93af5bac60643c7aeacf685587d2725",
       "version_major": 2,
       "version_minor": 0
      },
      "text/plain": [
       "NGLWidget()"
      ]
     },
     "metadata": {},
     "output_type": "display_data"
    }
   ],
   "source": [
    "view = viewer(structure, show_magmom=True, width=400, height=400)\n",
    "view"
   ]
  },
  {
   "cell_type": "code",
   "execution_count": 10,
   "id": "4f3f05bc",
   "metadata": {},
   "outputs": [],
   "source": [
    "# this block should be separated from the next block!\n",
    "image = view.render_image()"
   ]
  },
  {
   "cell_type": "code",
   "execution_count": 11,
   "id": "36a0468e",
   "metadata": {},
   "outputs": [],
   "source": [
    "with open('NiS.png', 'wb') as f:\n",
    "    f.write(image.value)"
   ]
  },
  {
   "cell_type": "code",
   "execution_count": null,
   "id": "6728466c",
   "metadata": {},
   "outputs": [],
   "source": []
  }
 ],
 "metadata": {
  "kernelspec": {
   "display_name": "Python 3 (ipykernel)",
   "language": "python",
   "name": "python3"
  },
  "language_info": {
   "codemirror_mode": {
    "name": "ipython",
    "version": 3
   },
   "file_extension": ".py",
   "mimetype": "text/x-python",
   "name": "python",
   "nbconvert_exporter": "python",
   "pygments_lexer": "ipython3",
   "version": "3.9.7"
  },
  "toc": {
   "base_numbering": 1,
   "nav_menu": {},
   "number_sections": true,
   "sideBar": true,
   "skip_h1_title": false,
   "title_cell": "Table of Contents",
   "title_sidebar": "Contents",
   "toc_cell": false,
   "toc_position": {},
   "toc_section_display": true,
   "toc_window_display": false
  }
 },
 "nbformat": 4,
 "nbformat_minor": 5
}
